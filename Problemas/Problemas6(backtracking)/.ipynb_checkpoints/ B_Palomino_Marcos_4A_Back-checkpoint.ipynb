{
 "cells": [
  {
   "cell_type": "markdown",
   "metadata": {},
   "source": [
    "<div style=\"padding:30px; color: white; background-color: #0071CD\">\n",
    "<center>\n",
    "    <img src=\"img/logoub.jpeg\"></img>\n",
    "<p>\n",
    "<h1>Algorísmica Avançada</h1>\n",
    "<h2>Problemas Enumerativos A</h2>\n",
    "</center>\n",
    "</p>\n",
    "</div>"
   ]
  },
  {
   "cell_type": "markdown",
   "metadata": {},
   "source": [
    "<div class=\"alert alert-info\">\n",
    "<center>\n",
    "  <h1>Backtracking</h1>\n",
    "</center>\n",
    "</div>"
   ]
  },
  {
   "cell_type": "markdown",
   "metadata": {},
   "source": [
    "<div class=\"alert alert-success\" style=\"width:90%; margin:0 auto;\">\n",
    "<h2><p>1. Sudoku (Ejercicio Opcional)</p></h2>\n",
    "<p>\n",
    "En este ejercicio queremos diseñar un \"solucionador\" de sudokus utilizando estrategias de backtracking. Para ello se os da la clase Sudoku que hace las veces de modelo y contiene funciones útiles que os permitirán centraros en el desarrollo del algoritmo.\n",
    "</p><p>\n",
    "El problema del sudoku consiste, basicamente en rellenar un tablero con números del 1 al 9 (ambos incluidos). Para insertar los numeros de forma válida en el tablero se tienen que cumplir tres condiciones:\n",
    "</p>\n",
    "<ul>\n",
    "    <li> El número no se encuentra repetido en la misma __fila__</li>\n",
    "<li> El número no se encuentra repetido en la misma __columna__</li>\n",
    "<li> El número no se encuentra repetido en el mismo __bloque__*</li>\n",
    "</ul>\n",
    "<p>\n",
    "* _Un bloque es cada una de las sub-divisiones 3x3 del tablero._</p>\n",
    "</div>"
   ]
  },
  {
   "cell_type": "code",
   "execution_count": 268,
   "metadata": {},
   "outputs": [
    {
     "name": "stdout",
     "output_type": "stream",
     "text": [
      "1- Crear un sudoku\n",
      "+-------+-------+-------+\n",
      "| 2     |   8   | 3     |\n",
      "|   6   |   7   |   8 4 |\n",
      "|   3   | 5     | 2   9 |\n",
      "+-------+-------+-------+\n",
      "|       | 1   5 | 4   8 |\n",
      "|       |       |       |\n",
      "| 4   2 | 7   6 |       |\n",
      "+-------+-------+-------+\n",
      "| 3   1 |     7 |   4   |\n",
      "| 7 2   |   4   |   6   |\n",
      "|     4 |   1   |     3 |\n",
      "+-------+-------+-------+\n",
      "\n",
      "2- Obtén los números válidos en (0,1)\n",
      "[1 4 5 7 9]\n",
      "[]\n",
      "3 - Obtén las posiciones vacías\n",
      "[(0, 1), (0, 2), (0, 3), (0, 5), (0, 7), (0, 8), (1, 0), (1, 2), (1, 3), (1, 5), (1, 6), (2, 0), (2, 2), (2, 4), (2, 5), (2, 7), (3, 0), (3, 1), (3, 2), (3, 4), (3, 7), (4, 0), (4, 1), (4, 2), (4, 3), (4, 4), (4, 5), (4, 6), (4, 7), (4, 8), (5, 1), (5, 4), (5, 6), (5, 7), (5, 8), (6, 1), (6, 3), (6, 4), (6, 6), (6, 8), (7, 2), (7, 3), (7, 5), (7, 6), (7, 8), (8, 0), (8, 1), (8, 3), (8, 5), (8, 6), (8, 7)]\n",
      "4 - Añade un 7 a la posición (0,1)\n",
      "+-------+-------+-------+\n",
      "| 2     |   8   | 3     |\n",
      "|   6   |   7   |   8 4 |\n",
      "|   3   | 5     | 2   9 |\n",
      "+-------+-------+-------+\n",
      "|       | 1   5 | 4   8 |\n",
      "|       |       |       |\n",
      "| 4   2 | 7   6 |       |\n",
      "+-------+-------+-------+\n",
      "| 3   1 |     7 |   4   |\n",
      "| 7 2   |   4   |   6   |\n",
      "|     4 |   1   |     3 |\n",
      "+-------+-------+-------+\n",
      "\n",
      "+-------+-------+-------+\n",
      "| 2 7   |   8   | 3     |\n",
      "|   6   |   7   |   8 4 |\n",
      "|   3   | 5     | 2   9 |\n",
      "+-------+-------+-------+\n",
      "|       | 1   5 | 4   8 |\n",
      "|       |       |       |\n",
      "| 4   2 | 7   6 |       |\n",
      "+-------+-------+-------+\n",
      "| 3   1 |     7 |   4   |\n",
      "| 7 2   |   4   |   6   |\n",
      "|     4 |   1   |     3 |\n",
      "+-------+-------+-------+\n",
      "\n",
      "Invalid number!\n"
     ]
    }
   ],
   "source": [
    "from sudoku import Sudoku\n",
    "\n",
    "# Para cargar el sudoku introducimos la ruta al archivo. En la carpeta './sudokus' tenéis un buén número\n",
    "# de ejemplos con los que podéis jugar\n",
    "\n",
    "print(\"1- Crear un sudoku\")\n",
    "s2 = Sudoku('sudoku/s2')\n",
    "print(s2)\n",
    "\n",
    "# Dada una posición definida como una tupla de dos elementos (x,y) en el rango [0,8], podemos obtener los\n",
    "# elementos validos para una posición vacía\n",
    "\n",
    "print(\"2- Obtén los números válidos en (0,1)\")\n",
    "print(s2.get_valid((0,1)))\n",
    "\n",
    "# En caso que se trate de una posición que ya contiene un número devolverá una lista vacía\n",
    "print(s2.get_valid((0,0)))\n",
    "\n",
    "# También podemos obtener la lista de todos los elementos vacios\n",
    "print(\"3 - Obtén las posiciones vacías\")\n",
    "print(s2.get_empty())\n",
    "\n",
    "# Finalmente, nos permite insertar un numero en una posición dada.\n",
    "print(\"4 - Añade un 7 a la posición (0,1)\")\n",
    "s3 = s2.set_number((0,1),7)\n",
    "print(s2)\n",
    "print(s3)\n",
    "\n",
    "# En caso de que no se pueda insertar el numero en esa posición nos devolverá un mensaje de error:\n",
    "s2.set_number((0,1),2)"
   ]
  },
  {
   "cell_type": "markdown",
   "metadata": {},
   "source": [
    "Implementa un algoritmo que utilice backtracking y que solucione el juego del Sudoku:"
   ]
  },
  {
   "cell_type": "code",
   "execution_count": 263,
   "metadata": {},
   "outputs": [],
   "source": [
    "def sudoku_solver(s):\n",
    "    \"\"\"\n",
    "    Función que resuelve el sudoku mediante backtracking. El retorno es el mismo objeto Sudoku solucionado.\n",
    "    Input:\n",
    "        s (Sudoku) - Sudoku de entrada con algunos números ya situados.\n",
    "    Output:\n",
    "        s (Sudoku) - El mismo sudoku de entrada pero correcta y completamente solucionado.\n",
    "    \"\"\"\n",
    "    pass"
   ]
  },
  {
   "cell_type": "code",
   "execution_count": 264,
   "metadata": {},
   "outputs": [
    {
     "ename": "NameError",
     "evalue": "name 'Sudoku' is not defined",
     "output_type": "error",
     "traceback": [
      "\u001b[1;31m---------------------------------------------------------------------------\u001b[0m",
      "\u001b[1;31mNameError\u001b[0m                                 Traceback (most recent call last)",
      "\u001b[1;32m<ipython-input-264-177fb5296d8b>\u001b[0m in \u001b[0;36m<module>\u001b[1;34m\u001b[0m\n\u001b[1;32m----> 1\u001b[1;33m \u001b[0ms2\u001b[0m \u001b[1;33m=\u001b[0m \u001b[0mSudoku\u001b[0m\u001b[1;33m(\u001b[0m\u001b[1;34m'sudoku/s3'\u001b[0m\u001b[1;33m)\u001b[0m\u001b[1;33m\u001b[0m\u001b[1;33m\u001b[0m\u001b[0m\n\u001b[0m\u001b[0;32m      2\u001b[0m \u001b[0mget_ipython\u001b[0m\u001b[1;33m(\u001b[0m\u001b[1;33m)\u001b[0m\u001b[1;33m.\u001b[0m\u001b[0mrun_line_magic\u001b[0m\u001b[1;33m(\u001b[0m\u001b[1;34m'timeit'\u001b[0m\u001b[1;33m,\u001b[0m \u001b[1;34m'sudoku_solver(s2)'\u001b[0m\u001b[1;33m)\u001b[0m\u001b[1;33m\u001b[0m\u001b[1;33m\u001b[0m\u001b[0m\n",
      "\u001b[1;31mNameError\u001b[0m: name 'Sudoku' is not defined"
     ]
    }
   ],
   "source": [
    "s2 = Sudoku('sudoku/s3')\n",
    "%timeit sudoku_solver(s2)"
   ]
  },
  {
   "cell_type": "code",
   "execution_count": 265,
   "metadata": {},
   "outputs": [
    {
     "ename": "NameError",
     "evalue": "name 'Sudoku' is not defined",
     "output_type": "error",
     "traceback": [
      "\u001b[1;31m---------------------------------------------------------------------------\u001b[0m",
      "\u001b[1;31mNameError\u001b[0m                                 Traceback (most recent call last)",
      "\u001b[1;32m<ipython-input-265-fa0e8cf5e568>\u001b[0m in \u001b[0;36m<module>\u001b[1;34m\u001b[0m\n\u001b[1;32m----> 1\u001b[1;33m \u001b[0msudoku\u001b[0m \u001b[1;33m=\u001b[0m \u001b[0mSudoku\u001b[0m\u001b[1;33m(\u001b[0m\u001b[1;34m'sudoku/s3'\u001b[0m\u001b[1;33m)\u001b[0m\u001b[1;33m\u001b[0m\u001b[1;33m\u001b[0m\u001b[0m\n\u001b[0m\u001b[0;32m      2\u001b[0m \u001b[0msol\u001b[0m \u001b[1;33m=\u001b[0m \u001b[0msudoku_solver\u001b[0m\u001b[1;33m(\u001b[0m\u001b[0msudoku\u001b[0m\u001b[1;33m)\u001b[0m\u001b[1;33m\u001b[0m\u001b[1;33m\u001b[0m\u001b[0m\n\u001b[0;32m      3\u001b[0m \u001b[0mprint\u001b[0m\u001b[1;33m(\u001b[0m\u001b[0msol\u001b[0m\u001b[1;33m)\u001b[0m\u001b[1;33m\u001b[0m\u001b[1;33m\u001b[0m\u001b[0m\n",
      "\u001b[1;31mNameError\u001b[0m: name 'Sudoku' is not defined"
     ]
    }
   ],
   "source": [
    "sudoku = Sudoku('sudoku/s3')\n",
    "sol = sudoku_solver(sudoku)\n",
    "print(sol)"
   ]
  },
  {
   "cell_type": "markdown",
   "metadata": {},
   "source": [
    "Si tu implementación realiza una búsqueda exhaustiva, ¿podría realizarse alguna optimización al algoritmo que logre encontrar la solución en menos tiempo? En caso afirmativo, impleméntala. En caso negativo, explica por qué crees que no se puede mejorar."
   ]
  },
  {
   "cell_type": "code",
   "execution_count": 266,
   "metadata": {},
   "outputs": [],
   "source": [
    "def sudoku_solver_opt(s):\n",
    "    \"\"\"\n",
    "    Función que resuelve el sudoku mediante backtracking. El retorno es el mismo objeto Sudoku solucionado.\n",
    "    Input:\n",
    "        s (Sudoku) - Sudoku de entrada con algunos números ya situados.\n",
    "    Output:\n",
    "        s (Sudoku) - El mismo sudoku de entrada pero correcta y completamente solucionado.\n",
    "    \"\"\"\n",
    "    pass"
   ]
  },
  {
   "cell_type": "code",
   "execution_count": 267,
   "metadata": {},
   "outputs": [
    {
     "ename": "NameError",
     "evalue": "name 'Sudoku' is not defined",
     "output_type": "error",
     "traceback": [
      "\u001b[1;31m---------------------------------------------------------------------------\u001b[0m",
      "\u001b[1;31mNameError\u001b[0m                                 Traceback (most recent call last)",
      "\u001b[1;32m<ipython-input-267-5abc16fa16b9>\u001b[0m in \u001b[0;36m<module>\u001b[1;34m\u001b[0m\n\u001b[1;32m----> 1\u001b[1;33m \u001b[0msudoku\u001b[0m \u001b[1;33m=\u001b[0m \u001b[0mSudoku\u001b[0m\u001b[1;33m(\u001b[0m\u001b[1;34m'sudoku/s3'\u001b[0m\u001b[1;33m)\u001b[0m\u001b[1;33m\u001b[0m\u001b[1;33m\u001b[0m\u001b[0m\n\u001b[0m\u001b[0;32m      2\u001b[0m \u001b[0mget_ipython\u001b[0m\u001b[1;33m(\u001b[0m\u001b[1;33m)\u001b[0m\u001b[1;33m.\u001b[0m\u001b[0mrun_line_magic\u001b[0m\u001b[1;33m(\u001b[0m\u001b[1;34m'timeit'\u001b[0m\u001b[1;33m,\u001b[0m \u001b[1;34m'sudoku_solver(sudoku)'\u001b[0m\u001b[1;33m)\u001b[0m\u001b[1;33m\u001b[0m\u001b[1;33m\u001b[0m\u001b[0m\n\u001b[0;32m      3\u001b[0m \u001b[0mprint\u001b[0m\u001b[1;33m(\u001b[0m\u001b[0msol\u001b[0m\u001b[1;33m)\u001b[0m\u001b[1;33m\u001b[0m\u001b[1;33m\u001b[0m\u001b[0m\n",
      "\u001b[1;31mNameError\u001b[0m: name 'Sudoku' is not defined"
     ]
    }
   ],
   "source": [
    "sudoku = Sudoku('sudoku/s3')\n",
    "%timeit sudoku_solver(sudoku)\n",
    "print(sol)"
   ]
  },
  {
   "cell_type": "markdown",
   "metadata": {},
   "source": [
    "<div class=\"alert alert-success\" style=\"width:90%; margin:0 auto;\">\n",
    "<h2><p>2. Cartas (EJERCICIO ENTREGABLE)</p></h2>\n",
    "<p>\n",
    "Supongamos que tenemos un conjunto de parejas de cartas del mismo valor. En particular, tenemos parejas de cartas hasta N. Por ejemplo, para $N=3$ tendríamos una pareja de 1s, una de 2s y una de 3s (un total de 6 cartas). Lo que queremos es encontrar la manera de ordenarlas para que entre las dos cartas de valor $n_i$ haya exactamente $n_i$ cartas. En el ejemplo con $N=3$ tendríamos la siguiente solución:\n",
    "</p>\n",
    "<center> <b>   3 - 1 - 2 - 1- 3 - 2 </b></center>\n",
    "<p>\n",
    "Podemos observar que entre los 3 hay tres cartas, entre los 2 hay dos y entre los 1 solo hay una. Dependiendo del tamaño de N el problema podría no tener solución. Por ejemplo $N=5$ o $N=6$. Se pide la implementación de un algoritmo que, mediante backtracking, devuelva una lista con la configuración encontrada dado un valor N. En caso de no haber solución, debe devolver una lista vacía.\n",
    "</p> <p>\n",
    "Es importante destacar que tendréis que prestar especial atención a la complejidad de vuestra solución, dado que el problema crece de forma no polinómica y para un valor $N>12$ podría tardar horas. Hay diferentes aproximaciones para resolverlo. Bien hecho, $N=12$ debería tardar escasos segundos. Si haces varias versiones, puedes entregarlas junto con la comparativa de complejidad correspondiente.</p>\n",
    "</div>"
   ]
  },
  {
   "cell_type": "code",
   "execution_count": 23,
   "metadata": {},
   "outputs": [],
   "source": [
    "def deck(n):  \n",
    "    # Primero inicializamos una lista de tamaño 2* n con todo 0\n",
    "    card_deck = [0] * 2 * n \n",
    "\n",
    "    # Condicion para que el problema tenga solución\n",
    "    if n%4 == 0 or (n+1)%4 == 0:\n",
    "        return deckBacktracking(card_deck, n)\n",
    "        \n",
    "    # En caso contrario devolvemos una lista vacia\n",
    "    else:\n",
    "        return []\n"
   ]
  },
  {
   "cell_type": "code",
   "execution_count": 24,
   "metadata": {},
   "outputs": [],
   "source": [
    "def deckBacktracking(card_deck, n):\n",
    "    \n",
    "    # Si hemos acabado de llenar todos los espacios, devolvemos la lista\n",
    "    if 0 not in card_deck:\n",
    "        return card_deck\n",
    "    \n",
    "    # Numero que iremos disminuiendo para llenar todos los huecos de la lista\n",
    "    num = n - 1\n",
    "    \n",
    "    \n",
    "    for i in range(0,  len(card_deck) - n - 1):\n",
    "        if not (card_deck[i] != 0 or card_deck[i + n + 1] != 0):\n",
    "            # Asignamos el valor de n (que varía en cada llamada), a las posiciones \n",
    "            card_deck[i] = n\n",
    "            card_deck[i + n + 1] = n\n",
    "            if num != 0:\n",
    "                # Llamamos a la misma función con el valor de num en cambio de n\n",
    "                card_deck = deckBacktracking(card_deck,num)\n",
    "                \n",
    "                # Volvemos a mirar si hemos acabado\n",
    "                if 0 not in card_deck:\n",
    "                    return card_deck\n",
    "                # En caso de que no, le asignamos 0 en las posiciones\n",
    "                else:\n",
    "                    card_deck[i] = 0\n",
    "                    card_deck[i + n + 1] = 0\n",
    "    return card_deck   \n"
   ]
  },
  {
   "cell_type": "code",
   "execution_count": 25,
   "metadata": {},
   "outputs": [
    {
     "name": "stdout",
     "output_type": "stream",
     "text": [
      "Sol 1: NO ENCONTRADA\n",
      "Sol 2: NO ENCONTRADA\n",
      "Sol 3:  3-1-2-1-3-2\n",
      "Sol 4:  4-1-3-1-2-4-3-2\n",
      "Sol 5: NO ENCONTRADA\n",
      "Sol 6: NO ENCONTRADA\n",
      "Sol 7:  7-3-6-2-5-3-2-4-7-6-5-1-4-1\n",
      "Sol 8:  8-3-7-2-6-3-2-4-5-8-7-6-4-1-5-1\n",
      "Sol 9: NO ENCONTRADA\n",
      "Sol 10: NO ENCONTRADA\n",
      "Sol 11:  11-6-10-2-9-3-2-8-6-3-7-5-11-10-9-4-8-5-7-1-4-1\n",
      "Sol 12:  12-10-11-6-4-5-9-7-8-4-6-5-10-12-11-7-9-8-3-1-2-1-3-2\n",
      "Sol 13: NO ENCONTRADA\n",
      "Sol 14: NO ENCONTRADA\n",
      "Sol 15:  15-13-14-8-5-12-7-11-4-10-5-9-8-4-7-13-15-14-12-11-10-9-6-3-1-2-1-3-2-6\n",
      "Sol 16:  16-14-15-9-7-13-3-12-6-11-3-10-7-9-8-6-14-16-15-13-12-11-10-8-5-2-4-1-2-1-5-4\n",
      "Sol 17: NO ENCONTRADA\n",
      "Sol 18: NO ENCONTRADA\n",
      "Sol 19:  19-17-18-14-8-16-9-15-6-1-13-1-12-8-11-6-9-10-14-17-19-18-16-15-13-12-11-7-10-3-5-2-4-3-2-7-5-4\n"
     ]
    }
   ],
   "source": [
    "for n in range(1,20):\n",
    "    sol = deck(n)\n",
    "    if sol:\n",
    "        print(\"Sol \"+str(n)+\": \",\"-\".join(map(str,sol)))\n",
    "    else:\n",
    "        print(\"Sol \"+str(n)+\": NO ENCONTRADA\")\n",
    "  \n"
   ]
  },
  {
   "cell_type": "markdown",
   "metadata": {},
   "source": [
    "<div class=\"alert alert-info\">\n",
    "<center>\n",
    "  <h1>Entrega</h1>\n",
    "</center>\n",
    "<p>\n",
    "La entrega de estos problemas se podrá realizar en el campus virtual hasta el día <b>16 de Diciembre a las 23:55</b>. En la tarea que se habilitará en el campus deberéis colgar <b>únicamente este notebook</b> con el nombre:\n",
    "</p>\n",
    "<p>\n",
    "```\n",
    "[grupo]_[apellido]_[nombre]_4A_Back.ipynb\n",
    "```\n",
    "\n",
    "</p>\n",
    "<p>\n",
    "    Por ejemplo, para un alumno llamado <i>Nombre Genérico</i> perteneciente al <i>grupo Z</i> el nombre del archivo debería ser:\n",
    "</p>\n",
    "<p>\n",
    "```\n",
    "Z_Generico_Nombre_4A_Back.ipynb\n",
    "```\n",
    "\n",
    "Y <b>NO</b>:\n",
    "<ul>\n",
    "<li>Z00_Generico_Nombre_4A_Back.zip</li>\n",
    "    \n",
    "<li>ZX_Generico_Nombre_4A_Back.ipynb</li>\n",
    "\n",
    "<li>Lab2_Generico_Nombre_4A_Back.rar</li>\n",
    "\n",
    "<li>4A_Back.ipynb</li>\n",
    "<li> ... literalmente cualquier otra cosa que no sea el nombre que sí hay que ponerle </li>\n",
    "</ul>\n",
    "</p>\n",
    "<p>\n",
    "\n",
    "\n",
    "Es fundamental que el código esté bién comentado. La importancia de poner nombre correcto al archivo debería ser directamente proporcional a lo contentos que queráis que los profesores de prácticas corrijan.<b> No adherirse al formato en el nombre del archivo así como entregar otro tipo de archivo o varios archivos, conllevará a la no corrección de vuestra práctica.</b>\n",
    "</p>\n",
    "</div>"
   ]
  },
  {
   "cell_type": "code",
   "execution_count": null,
   "metadata": {},
   "outputs": [],
   "source": []
  }
 ],
 "metadata": {
  "kernelspec": {
   "display_name": "Python 3",
   "language": "python",
   "name": "python3"
  },
  "language_info": {
   "codemirror_mode": {
    "name": "ipython",
    "version": 3
   },
   "file_extension": ".py",
   "mimetype": "text/x-python",
   "name": "python",
   "nbconvert_exporter": "python",
   "pygments_lexer": "ipython3",
   "version": "3.8.3"
  }
 },
 "nbformat": 4,
 "nbformat_minor": 1
}
